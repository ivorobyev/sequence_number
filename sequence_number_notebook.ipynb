{
 "cells": [
  {
   "cell_type": "code",
   "execution_count": null,
   "metadata": {},
   "outputs": [],
   "source": [
    "from itertools import product\n",
    "\n",
    "def get_codon_table(table_number):\n",
    "    with open('translation_tables.txt', 'r') as f:\n",
    "        s = f.read().partition('==== Table '+str(table_number)+' ====')[2].partition('=================')[0]\n",
    "\n",
    "    codon_table = {}\n",
    "    for a in s.split('\\n'):\n",
    "        codones_string = a.split(' ')\n",
    "        codones_string = ' '.join(codones_string).split()\n",
    "        for ch in range(len(codones_string)):\n",
    "            if codones_string[ch].isupper() and (len(codones_string[ch]) == 3):\n",
    "                if ch+3 in range(len(codones_string)):\n",
    "                    if codones_string[ch+3] == 'i':\n",
    "                        codon_table[codones_string[ch]] = (codones_string[ch+1], \n",
    "                                                           codones_string[ch+2], \n",
    "                                                           codones_string[ch+3])\n",
    "                        ch += 2\n",
    "                    else:\n",
    "                        codon_table[codones_string[ch]] = (codones_string[ch+1], \n",
    "                                                           codones_string[ch+2])\n",
    "                        ch += 1\n",
    "                else:\n",
    "                    codon_table[codones_string[ch]] = (codones_string[ch+1], \n",
    "                                                       codones_string[ch+2])\n",
    "    return codon_table\n",
    "\n",
    "def translate(seq, codon_table): \n",
    "    seq = seq.replace('U', 'T')\n",
    "    protein = ''\n",
    "    if len(seq)%3 == 0: \n",
    "        for i in range(0, len(seq), 3): \n",
    "            codon = seq[i:i + 3] \n",
    "            protein+= codon_table[codon][0]\n",
    "    else:\n",
    "        print('Number of nucleotides does not divide into three')\n",
    "    return protein\n",
    "\n",
    "def get_codon_variations(codon, codon_table):\n",
    "    codon = codon.replace('U', 'T')\n",
    "    amino_acid = translate(codon, codon_table)\n",
    "    \n",
    "    codons_all = []\n",
    "    for c in product('ACGT', repeat = 3):\n",
    "        codons_all.append(''.join(c))\n",
    "    \n",
    "    variations_raw = []\n",
    "    for ex in codons_all:\n",
    "        diff = lambda l1,l2: len([x for ind, x in enumerate(l1) if l1[ind] != l2[ind]])\n",
    "        variations_raw.append([ex,diff(codon, ex)])\n",
    "       \n",
    "    variations_sorted = sorted(variations_raw, key=lambda x:x[1])\n",
    "    \n",
    "    variations = []\n",
    "    for var in variations_sorted:\n",
    "        amino_acid_m = translate(var[0], codon_table) \n",
    "        if (amino_acid_m not in [i[0] for i in variations]) and (amino_acid_m != '*'):\n",
    "            variations.append([amino_acid_m, var[1]])\n",
    "    \n",
    "    variations_count = {\n",
    "        0 : [i[1] for i in variations].count(0),\n",
    "        1 : [i[1] for i in variations].count(1),\n",
    "        2 : [i[1] for i in variations].count(2),\n",
    "        3 : [i[1] for i in variations].count(3)\n",
    "    }\n",
    "        \n",
    "    return variations_count\n",
    "\n",
    "def get_sequence_number(sequence, mutate_first_codon, max_nmut, codon_table):\n",
    "    a = 0\n",
    "    implement = {}\n",
    "    implement[(0,0)] = 1\n",
    "    mutations = 0\n",
    "    current_codon = 1\n",
    "    length = len(translate(sequence, codon_table))\n",
    "\n",
    "    while a <= len(sequence)-3:\n",
    "        max_mutations = 0 if current_codon == 1 and not mutate_first_codon else 3\n",
    "        prev_mutations = mutations\n",
    "        mutations += max_mutations\n",
    "        current_codon_variations = get_codon_variations(sequence[a:a+3], codon_table)\n",
    "\n",
    "        nmut = 0\n",
    "        while nmut <= mutations:\n",
    "            extra_m = 0\n",
    "            implement[(nmut, current_codon)] = 0\n",
    "            while extra_m <= max_mutations:\n",
    "                prev_nmut = nmut - extra_m\n",
    "                if (prev_nmut < 0) or (prev_nmut > prev_mutations):\n",
    "                    extra_m += 1\n",
    "                    continue\n",
    "                implement[(nmut, current_codon)] += implement[(prev_nmut, current_codon - 1)] * current_codon_variations[extra_m]\n",
    "                extra_m += 1\n",
    "            nmut += 1\n",
    "\n",
    "        current_codon += 1\n",
    "        a += 3\n",
    "\n",
    "    integral = 0\n",
    "    integral_dict = {}\n",
    "    nmut = 0\n",
    "    while nmut <= mutations:\n",
    "        integral += implement[(nmut, length)]\n",
    "        integral_dict[(nmut, length)] = integral\n",
    "        nmut += 1\n",
    "\n",
    "    nmut = 0\n",
    "    while (nmut <= max_nmut) and (nmut <= max(implement.keys())[0]):\n",
    "        print('{0} {1} {2}'.format(nmut, implement[(nmut,length)], integral_dict[(nmut,length)]))\n",
    "        nmut += 1\n",
    "\n",
    "        \n",
    "mutate_first_codon = 0\n",
    "gfp = 'AUGUCG'\n",
    "gfp = 'ATGGTGAGCAAGGGCGAGGAGCTGTTCACCGGGGTGGTGCCCATCCTGGTCGAGCTGGACGGCGACGTAAACGGCCACAAGTTCAGCGTGTCCGGCGAGGGCGAGGGCGATGCCACCTACGGCAAGCTGACCCTGAAGTTCATCTGCACCACCGGCAAGCTGCCCGTGCCCTGGCCCACCCTCGTGACCACCCTGACCTACGGCGTGCAGTGCTTCAGCCGCTACCCCGACCACATGAAGCAGCACGACTTCTTCAAGTCCGCCATGCCCGAAGGCTACGTCCAGGAGCGCACCATCTTCTTCAAGGACGACGGCAACTACAAGACCCGCGCCGAGGTGAAGTTCGAGGGCGACACCCTGGTGAACCGCATCGAGCTGAAGGGCATCGACTTCAAGGAGGACGGCAACATCCTGGGGCACAAGCTGGAGTACAACTACAACAGCCACAACGTCTATATCATGGCCGACAAGCAGAAGAACGGCATCAAGGTGAACTTCAAGATCCGCCACAACATCGAGGACGGCAGCGTGCAGCTCGCCGACCACTACCAGCAGAACACCCCCATCGGCGACGGCCCCGTGCTGCTGCCCGACAACCACTACCTGAGCACCCAGTCCGCCCTGAGCAAAGACCCCAACGAGAAGCGCGATCACATGGTCCTGCTGGAGTTCGTGACCGCCGCCGGGATCACTCTCGGCATGGACGAGCTGTACAAG'\n",
    "max_nmut = 30\n",
    "codon_table = get_codon_table(1)\n",
    "\n",
    "get_sequence_number(gfp, mutate_first_codon, max_nmut, codon_table)"
   ]
  },
  {
   "cell_type": "code",
   "execution_count": 6,
   "metadata": {},
   "outputs": [
    {
     "data": {
      "text/plain": [
       "['0\\t1\\t1', '1\\t5\\t6', '2\\t10\\t16', '3\\t4\\t20']"
      ]
     },
     "execution_count": 6,
     "metadata": {},
     "output_type": "execute_result"
    }
   ],
   "source": [
    "import sequence_number as sn\n",
    "\n",
    "mutate_first_codon = 0\n",
    "gfp = 'ATGGTGAGCAAGGGCGAGGAGCTGTTCACCGGGGTGGTGCCCATCCTGGTCGAGCTGGACGGCGACGTAAACGGCCACAAGTTCAGCGTGTCCGGCGAGGGCGAGGGCGATGCCACCTACGGCAAGCTGACCCTGAAGTTCATCTGCACCACCGGCAAGCTGCCCGTGCCCTGGCCCACCCTCGTGACCACCCTGACCTACGGCGTGCAGTGCTTCAGCCGCTACCCCGACCACATGAAGCAGCACGACTTCTTCAAGTCCGCCATGCCCGAAGGCTACGTCCAGGAGCGCACCATCTTCTTCAAGGACGACGGCAACTACAAGACCCGCGCCGAGGTGAAGTTCGAGGGCGACACCCTGGTGAACCGCATCGAGCTGAAGGGCATCGACTTCAAGGAGGACGGCAACATCCTGGGGCACAAGCTGGAGTACAACTACAACAGCCACAACGTCTATATCATGGCCGACAAGCAGAAGAACGGCATCAAGGTGAACTTCAAGATCCGCCACAACATCGAGGACGGCAGCGTGCAGCTCGCCGACCACTACCAGCAGAACACCCCCATCGGCGACGGCCCCGTGCTGCTGCCCGACAACCACTACCTGAGCACCCAGTCCGCCCTGAGCAAAGACCCCAACGAGAAGCGCGATCACATGGTCCTGCTGGAGTTCGTGACCGCCGCCGGGATCACTCTCGGCATGGACGAGCTGTACAAG'\n",
    "gfp = 'AUGUCG'\n",
    "max_nmut = 30\n",
    "codon_table = sn.get_codon_table(1)\n",
    "s = sn.get_sequence_number(gfp, mutate_first_codon, max_nmut, codon_table)\n",
    "s"
   ]
  },
  {
   "cell_type": "code",
   "execution_count": 3,
   "metadata": {},
   "outputs": [
    {
     "data": {
      "text/plain": [
       "\"['0\\\\t1\\\\t1', '1\\\\t1428\\\\t1429', '2\\\\t1017668\\\\t1019097', '3\\\\t482582301\\\\t483601398', '4\\\\t171307137200\\\\t171790738598', '5\\\\t48556340988458\\\\t48728131727056', '6\\\\t11447497145830389\\\\t11496225277557445', '7\\\\t2308886493724271456\\\\t2320382719001828901', '8\\\\t406701526641104738030\\\\t409021909360106566931', '9\\\\t63557749318116382648317\\\\t63966771227476489215248', '10\\\\t8922254634669921993440048\\\\t8986221405897398482655296', '11\\\\t1136469514130557582186111816\\\\t1145455735536454980668767112', '12\\\\t132440566209385992581792042145\\\\t133586021944922447562460809257', '13\\\\t14219674075969977032228147237232\\\\t14353260097914899479790608046489', '14\\\\t1414946129715544493473550259433238\\\\t1429299389813459392953340867479727', '15\\\\t131157196445243841533581922534474757\\\\t132586495835057300926535263401954484', '16\\\\t11375739527095640648017306077459468671\\\\t11508326022930697948943841340861423155', '17\\\\t926832101364434814976939862540519002112\\\\t938340427387365512925883703881380425267', '18\\\\t71180427342603320442065989352344428387841\\\\t72118767769990685954991873056225808813108', '19\\\\t5168916526758999505823014341085402132641183\\\\t5241035294528990191778006214141627941454291', '20\\\\t355894573476016601776616474154303198348749914\\\\t361135608770545591968394480368444826290204205', '21\\\\t23292281851625067112365109990047516700967557051\\\\t23653417460395612704333504470415961527257761256', '22\\\\t1452299691478664180556011703754360832927821674051\\\\t1475953108939059793260345208224776794455079435307', '23\\\\t86447217157895826086968930413501651384017103459164\\\\t87923170266834885880229275621726428178472182894471', '24\\\\t4921719875171040326769161142508889128288010497121111\\\\t5009643045437875212649390418130615556466482680015582', '25\\\\t268477125480294341416425427876239722988177228755015163\\\\t273486768525732216629074818294370338544643711435030745', '26\\\\t14054532803008099289603231069316275752184903703871536178\\\\t14328019571533831506232305887610646090729547415306566923', '27\\\\t707108335484563385679698893053797041928453416202491595337\\\\t721436355056097217185931198941407688019182963617798162260', '28\\\\t34238192633918222176623475333514448627519422136646411437771\\\\t34959628988974319393809406532455856315538605100264209600031', '29\\\\t1597511868056548052437831331396179676712288371131619508754464\\\\t1632471497045522371831640737928635533027826976231883718354495', '30\\\\t71911972752495626806576560123013393943333445814519664207250259\\\\t73544444249541149178408200860942029476361272790751547925604754']\""
      ]
     },
     "execution_count": 3,
     "metadata": {},
     "output_type": "execute_result"
    }
   ],
   "source": [
    "str(s)"
   ]
  },
  {
   "cell_type": "code",
   "execution_count": null,
   "metadata": {},
   "outputs": [],
   "source": []
  }
 ],
 "metadata": {
  "kernelspec": {
   "display_name": "Python 2",
   "language": "python",
   "name": "python2"
  },
  "language_info": {
   "codemirror_mode": {
    "name": "ipython",
    "version": 2
   },
   "file_extension": ".py",
   "mimetype": "text/x-python",
   "name": "python",
   "nbconvert_exporter": "python",
   "pygments_lexer": "ipython2",
   "version": "2.7.15+"
  }
 },
 "nbformat": 4,
 "nbformat_minor": 2
}
